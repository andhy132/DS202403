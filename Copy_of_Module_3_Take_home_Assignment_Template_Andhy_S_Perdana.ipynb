{
  "nbformat": 4,
  "nbformat_minor": 0,
  "metadata": {
    "colab": {
      "private_outputs": true,
      "provenance": [],
      "include_colab_link": true
    },
    "kernelspec": {
      "name": "python3",
      "display_name": "Python 3"
    },
    "language_info": {
      "name": "python"
    }
  },
  "cells": [
    {
      "cell_type": "markdown",
      "metadata": {
        "id": "view-in-github",
        "colab_type": "text"
      },
      "source": [
        "<a href=\"https://colab.research.google.com/github/andhy132/DS202403/blob/main/Copy_of_Module_3_Take_home_Assignment_Template_Andhy_S_Perdana.ipynb\" target=\"_parent\"><img src=\"https://colab.research.google.com/assets/colab-badge.svg\" alt=\"Open In Colab\"/></a>"
      ]
    },
    {
      "cell_type": "markdown",
      "source": [
        "# Import Packages"
      ],
      "metadata": {
        "id": "XfYwSIvKvWQ8"
      }
    },
    {
      "cell_type": "code",
      "source": [
        "#Import Package\n",
        "import pandas as pd\n",
        "import gdown"
      ],
      "metadata": {
        "id": "av1nJAoPtI-4"
      },
      "execution_count": null,
      "outputs": []
    },
    {
      "cell_type": "markdown",
      "source": [
        "# Download Data"
      ],
      "metadata": {
        "id": "lnlnpGTUvUsQ"
      }
    },
    {
      "cell_type": "code",
      "execution_count": null,
      "metadata": {
        "id": "2J8FJ-M0s7c6"
      },
      "outputs": [],
      "source": [
        "#List data download\n",
        "dict_source_url = {\"TELECOM_ACCOUNT.csv\" : \"https://drive.google.com/file/d/1hOLOXCnLtEVx56yth4ePcUdb_X038_Qd/view?usp=drive_link\",\n",
        "                 \"TELECOM_USAGE.csv\" : \"https://drive.google.com/file/d/1JMrMNFaflQR0NhCXR3-u7ueA7TdNTJki/view?usp=drive_link\"\n",
        "}\n",
        "\n",
        "#Download Data\n",
        "for file_name, gdrive_url in dict_source_url.items():\n",
        "  gdown.download(gdrive_url, file_name, fuzzy=True)"
      ]
    },
    {
      "cell_type": "markdown",
      "source": [
        "# Load Data"
      ],
      "metadata": {
        "id": "L9s_-pAKvYb6"
      }
    },
    {
      "cell_type": "code",
      "source": [
        "#Load to dataframe df_account\n",
        "df_account = pd.read_csv('/content/TELECOM_ACCOUNT.csv')\n",
        "\n",
        "#Check Dataframe df_account\n",
        "df_account.head()"
      ],
      "metadata": {
        "id": "P3lcWWvXtm_1"
      },
      "execution_count": null,
      "outputs": []
    },
    {
      "cell_type": "code",
      "source": [
        "#check columns\n",
        "df_account.columns"
      ],
      "metadata": {
        "id": "ql0mjIaOhC57"
      },
      "execution_count": null,
      "outputs": []
    },
    {
      "cell_type": "code",
      "source": [
        "#Load to dataframe df_usage\n",
        "df_usage = pd.read_csv('/content/TELECOM_USAGE.csv')\n",
        "\n",
        "#check Dataframe\n",
        "df_usage.head()"
      ],
      "metadata": {
        "id": "9DO-s4gLtoSL"
      },
      "execution_count": null,
      "outputs": []
    },
    {
      "cell_type": "code",
      "source": [
        "#check columns\n",
        "df_usage.columns"
      ],
      "metadata": {
        "id": "yc8FPPBMhKol"
      },
      "execution_count": null,
      "outputs": []
    },
    {
      "cell_type": "markdown",
      "source": [
        "# Cleaning Customer Gender"
      ],
      "metadata": {
        "id": "Vz10RzvQvaT8"
      }
    },
    {
      "cell_type": "code",
      "source": [
        "#copy source\n",
        "df_account_org = df_account.copy()"
      ],
      "metadata": {
        "id": "-p_7MCuhtpi5"
      },
      "execution_count": null,
      "outputs": []
    },
    {
      "cell_type": "code",
      "source": [
        "#Check [\"customer_gender\"] value\n",
        "df_account[\"customer_gender\"].value_counts(dropna=False)"
      ],
      "metadata": {
        "id": "BCeILVkAeI5C"
      },
      "execution_count": null,
      "outputs": []
    },
    {
      "cell_type": "code",
      "source": [
        "#formating ['customer_gender']\n",
        "df_account.loc[df_account['customer_gender'].isnull() , 'customer_gender'] = 'u'\n",
        "df_account.loc[df_account['customer_gender'].isin(['U', 'u','.']) , 'customer_gender'] = 'u'\n",
        "df_account[\"customer_gender\"].value_counts(dropna=False)\n"
      ],
      "metadata": {
        "id": "fx8t3HORwY8E"
      },
      "execution_count": null,
      "outputs": []
    },
    {
      "cell_type": "markdown",
      "source": [
        "# RFM Exploration"
      ],
      "metadata": {
        "id": "J86IhLHExAsL"
      }
    },
    {
      "cell_type": "code",
      "source": [
        "#Check Colomn ['rfm_score','mb_data_usg_m01','avg_arpu_3m','lifetime_value']\n",
        "df_usage[['rfm_score','mb_data_usg_m01','avg_arpu_3m','lifetime_value']].head()\n"
      ],
      "metadata": {
        "id": "DN4STEk1wkib"
      },
      "execution_count": null,
      "outputs": []
    },
    {
      "cell_type": "code",
      "source": [
        "# create df_rfm\n",
        "df_rfm = df_usage.groupby('rfm_score').agg({'mb_data_usg_m01' : ['mean','max'],\n",
        "                                   'avg_arpu_3m' : 'mean',\n",
        "                                   'lifetime_value' : 'mean'\n",
        "                                   })\n",
        "#check df_rfm\n",
        "df_rfm.head()"
      ],
      "metadata": {
        "id": "UjICOA4G0gFB"
      },
      "execution_count": null,
      "outputs": []
    },
    {
      "cell_type": "code",
      "source": [
        "#Answering Question 7\n",
        "df_rfm.loc[[111,112,113,121,122,123]]"
      ],
      "metadata": {
        "id": "xZtF_7VSyGt1"
      },
      "execution_count": null,
      "outputs": []
    },
    {
      "cell_type": "markdown",
      "source": [
        "# Merge Table"
      ],
      "metadata": {
        "id": "-qOT8hARyglf"
      }
    },
    {
      "cell_type": "code",
      "source": [
        "#Created Selected df_account_selected\n",
        "#Created Selected df_usage_selected\n",
        "\n",
        "df_account_selected = df_account[[\"Customer_ID\",\"customer_gender\",\"region\"]]\n",
        "df_usage_selected = df_usage[[\"Customer_ID\",\"mb_data_usg_m01\", \"avg_arpu_3m\",\"lifetime_value\"]]"
      ],
      "metadata": {
        "id": "ViV4THte0Jqc"
      },
      "execution_count": null,
      "outputs": []
    },
    {
      "cell_type": "code",
      "source": [
        "#Merged df_usage_selected with df_account_selected\n",
        "df_join = df_account_selected.merge(df_usage_selected, on = 'Customer_ID')"
      ],
      "metadata": {
        "id": "-aPEyZUZ1Gvb"
      },
      "execution_count": null,
      "outputs": []
    },
    {
      "cell_type": "code",
      "source": [
        "#Check Result\n",
        "df_join.head()"
      ],
      "metadata": {
        "id": "LX52N-2l-d52"
      },
      "execution_count": null,
      "outputs": []
    },
    {
      "cell_type": "code",
      "source": [
        "#Answer Question 9\n",
        "df_join.loc[df_join['Customer_ID'].isin([84690,3998832,3999066])]"
      ],
      "metadata": {
        "id": "lkzt9kg0-A4w"
      },
      "execution_count": null,
      "outputs": []
    }
  ]
}